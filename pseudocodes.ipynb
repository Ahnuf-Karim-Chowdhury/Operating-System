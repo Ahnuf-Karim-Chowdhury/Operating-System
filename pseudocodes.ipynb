{
 "cells": [
  {
   "cell_type": "markdown",
   "metadata": {},
   "source": [
    "🔹 FCFS (First Come First Serve)"
   ]
  },
  {
   "cell_type": "code",
   "execution_count": null,
   "metadata": {
    "vscode": {
     "languageId": "plaintext"
    }
   },
   "outputs": [],
   "source": [
    "Sort processes by arrival time\n",
    "time = 0\n",
    "For each process:\n",
    "    waiting_time = time - arrival_time\n",
    "    turnaround_time = waiting_time + burst_time\n",
    "    time += burst_time\n"
   ]
  },
  {
   "cell_type": "markdown",
   "metadata": {},
   "source": [
    "🔹 SJF (Non-Preemptive)"
   ]
  },
  {
   "cell_type": "markdown",
   "metadata": {},
   "source": [
    "Initialize time = 0\n",
    "While not all processes are completed:\n",
    "    Select process with shortest burst_time among arrived and not completed\n",
    "    waiting_time = time - arrival_time\n",
    "    turnaround_time = waiting_time + burst_time\n",
    "    time += burst_time\n",
    "    Mark process as completed\n"
   ]
  },
  {
   "cell_type": "markdown",
   "metadata": {},
   "source": [
    "🔹 RR (Round Robin)"
   ]
  },
  {
   "cell_type": "markdown",
   "metadata": {},
   "source": [
    "Initialize queue with arrived processes\n",
    "While queue is not empty:\n",
    "    Dequeue process\n",
    "    Execute for min(time_quantum, remaining_time)\n",
    "    Update time\n",
    "    If process not finished:\n",
    "        Enqueue again\n",
    "    Else:\n",
    "        waiting_time = time - arrival_time - burst_time\n",
    "        turnaround_time = waiting_time + burst_time\n"
   ]
  },
  {
   "cell_type": "markdown",
   "metadata": {},
   "source": [
    "🔹 Priority (Non-Preemptive)"
   ]
  },
  {
   "cell_type": "markdown",
   "metadata": {},
   "source": [
    "Initialize time = 0\n",
    "While not all processes are completed:\n",
    "    Select process with highest priority among arrived and not completed\n",
    "    waiting_time = time - arrival_time\n",
    "    turnaround_time = waiting_time + burst_time\n",
    "    time += burst_time\n",
    "    Mark process as completed\n"
   ]
  },
  {
   "cell_type": "markdown",
   "metadata": {},
   "source": [
    "🔹 Priority Preemptive"
   ]
  },
  {
   "cell_type": "markdown",
   "metadata": {},
   "source": [
    "Initialize time = 0\n",
    "While not all processes are completed:\n",
    "    Select process with highest priority among arrived and not finished\n",
    "    Execute for 1 unit\n",
    "    Update remaining_time and time\n",
    "    If process finishes:\n",
    "        waiting_time = time - arrival_time - burst_time\n",
    "        turnaround_time = waiting_time + burst_time"
   ]
  },
  {
   "cell_type": "markdown",
   "metadata": {},
   "source": [
    "🔹 SRTN (Shortest Remaining Time Next)"
   ]
  },
  {
   "cell_type": "markdown",
   "metadata": {},
   "source": [
    "Initialize time = 0\n",
    "While not all processes are completed:\n",
    "    Select process with shortest remaining_time among arrived\n",
    "    Execute for 1 unit\n",
    "    Update remaining_time and time\n",
    "    If process finishes:\n",
    "        waiting_time = time - arrival_time - burst_time\n",
    "        turnaround_time = waiting_time + burst_time\n"
   ]
  },
  {
   "cell_type": "markdown",
   "metadata": {},
   "source": [
    "🔐 Deadlock Detection 🔹 Cycle Detection (RAG)"
   ]
  },
  {
   "cell_type": "markdown",
   "metadata": {},
   "source": [
    "For each node:\n",
    "    If node not visited:\n",
    "        Call DFS\n",
    "        If cycle found:\n",
    "            Deadlock detected\n",
    "If no cycle:\n",
    "    No deadlock\n"
   ]
  },
  {
   "cell_type": "markdown",
   "metadata": {},
   "source": [
    "🔐 Deadlock Detection 🔹 Banker's Algorithm"
   ]
  },
  {
   "cell_type": "markdown",
   "metadata": {},
   "source": [
    "Work = Available\n",
    "Finish[i] = false for all i\n",
    "While exists i such that Finish[i] == false and Need[i] <= Work:\n",
    "    Work += Allocation[i]\n",
    "    Finish[i] = true\n",
    "If all Finish[i] == true:\n",
    "    Safe state\n",
    "Else:\n",
    "    Unsafe state\n"
   ]
  },
  {
   "cell_type": "markdown",
   "metadata": {},
   "source": [
    "🔹 Producer-Consumer"
   ]
  },
  {
   "cell_type": "markdown",
   "metadata": {},
   "source": [
    "Repeat:\n",
    "    Wait(empty)\n",
    "    Wait(mutex)\n",
    "    Add item to buffer\n",
    "    Signal(mutex)\n",
    "    Signal(full)\n"
   ]
  },
  {
   "cell_type": "markdown",
   "metadata": {},
   "source": [
    "🔹 Reader-Writer (Reader Priority)"
   ]
  },
  {
   "cell_type": "markdown",
   "metadata": {},
   "source": [
    "Reader:\n",
    "    Wait(mutex)\n",
    "    reader_count++\n",
    "    If reader_count == 1: Wait(write)\n",
    "    Signal(mutex)\n",
    "    Read\n",
    "    Wait(mutex)\n",
    "    reader_count--\n",
    "    If reader_count == 0: Signal(write)\n",
    "    Signal(mutex)\n",
    "\n",
    "Writer:\n",
    "    Wait(write)\n",
    "    Write\n",
    "    Signal(write)\n"
   ]
  },
  {
   "cell_type": "markdown",
   "metadata": {},
   "source": [
    "🧠 Memory Allocation"
   ]
  },
  {
   "cell_type": "markdown",
   "metadata": {},
   "source": [
    "🔹 First Fit"
   ]
  },
  {
   "cell_type": "markdown",
   "metadata": {},
   "source": [
    "For each request:\n",
    "    Find first hole where size >= request\n",
    "    Allocate and reduce hole size\n"
   ]
  },
  {
   "cell_type": "markdown",
   "metadata": {},
   "source": [
    "🔹 Best Fit"
   ]
  },
  {
   "cell_type": "markdown",
   "metadata": {},
   "source": [
    "For each request:\n",
    "    Find hole with minimum leftover space after allocation\n",
    "    Allocate and reduce hole size\n"
   ]
  },
  {
   "cell_type": "markdown",
   "metadata": {},
   "source": [
    "🔹 Worst Fit"
   ]
  },
  {
   "cell_type": "markdown",
   "metadata": {},
   "source": [
    "For each request:\n",
    "    Find hole with maximum size\n",
    "    Allocate and reduce hole size\n"
   ]
  },
  {
   "cell_type": "markdown",
   "metadata": {},
   "source": [
    "📄 Page Replacement"
   ]
  },
  {
   "cell_type": "markdown",
   "metadata": {},
   "source": [
    "🔹 FIFO"
   ]
  },
  {
   "cell_type": "markdown",
   "metadata": {},
   "source": [
    "If page not in memory:\n",
    "    If memory full:\n",
    "        Remove oldest page\n",
    "    Add new page\n"
   ]
  },
  {
   "cell_type": "markdown",
   "metadata": {},
   "source": [
    "🔹 LRU"
   ]
  },
  {
   "cell_type": "markdown",
   "metadata": {},
   "source": [
    "If page not in memory:\n",
    "    If memory full:\n",
    "        Remove least recently used page\n",
    "    Add new page\n",
    "Update usage history\n"
   ]
  },
  {
   "cell_type": "markdown",
   "metadata": {},
   "source": [
    "🔹 Optimal"
   ]
  },
  {
   "cell_type": "markdown",
   "metadata": {},
   "source": [
    "If page not in memory:\n",
    "    If memory full:\n",
    "        Remove page that won't be used for longest time\n",
    "    Add new page\n"
   ]
  }
 ],
 "metadata": {
  "language_info": {
   "name": "python"
  }
 },
 "nbformat": 4,
 "nbformat_minor": 2
}
